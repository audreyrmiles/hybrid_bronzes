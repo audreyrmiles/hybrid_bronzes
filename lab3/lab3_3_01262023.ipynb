{
 "cells": [
  {
   "cell_type": "code",
   "execution_count": 1,
   "id": "b1ed6573",
   "metadata": {},
   "outputs": [],
   "source": [
    "#ASE modules\n",
    "from ase import Atoms\n",
    "from ase.visualize import view\n",
    "from ase.io import read,write\n",
    "from ase.build import molecule\n",
    "from ase.calculators.vasp import Vasp\n",
    "\n",
    "#Python modules\n",
    "import numpy as np\n",
    "import matplotlib.pyplot as plt\n",
    "from scipy.constants import physical_constants"
   ]
  },
  {
   "cell_type": "code",
   "execution_count": 9,
   "id": "f5e6d77c",
   "metadata": {},
   "outputs": [],
   "source": [
    "def Calc_Encut(direct, en, atom):\n",
    "    \n",
    "    calc = Vasp(\n",
    "            directory = direct,\n",
    "            encut = en, #planewave cutoff\n",
    "            xc = 'PBE', #exchange-correlation functional\n",
    "            nbands = 8, #number of bands\n",
    "            ismear = 1, #planewave smearing\n",
    "            sigma = 0.01, #small smearing factor for a molecule\n",
    "            kpts = [1,1,1],\n",
    "            #ediff = 1e-6,\n",
    "            atoms = atom,\n",
    "            )\n",
    "    \n",
    "    return calc"
   ]
  },
  {
   "cell_type": "code",
   "execution_count": 29,
   "id": "f28a6e79",
   "metadata": {},
   "outputs": [
    {
     "data": {
      "text/plain": [
       "<Popen: returncode: None args: ['/afs/.crc.nd.edu/x86_64_linux/p/python/3.10...>"
      ]
     },
     "execution_count": 29,
     "metadata": {},
     "output_type": "execute_result"
    }
   ],
   "source": [
    "d = 1.1\n",
    "\n",
    "CO = Atoms('CO',\n",
    "           positions = [ (0,0,0), (0,0, d) ],\n",
    "           cell = [10,10,10],\n",
    "           pbc = [1,1,1] #periodic boundary condition\n",
    "          )\n",
    "\n",
    "#CO.center()\n",
    "\n",
    "view(CO)"
   ]
  },
  {
   "cell_type": "code",
   "execution_count": 30,
   "id": "0016b228",
   "metadata": {},
   "outputs": [],
   "source": [
    "calc_CO = Calc_Encut('./CO_lab3_3_01292023', 350, CO)\n",
    "calc_CO.calculate(CO)"
   ]
  },
  {
   "cell_type": "code",
   "execution_count": 28,
   "id": "539b512f",
   "metadata": {},
   "outputs": [
    {
     "ename": "ReadError",
     "evalue": "The file \"CO_lab3_3_01292023/vasprun.xml\" is incomplete, and no DFT data was available. This is likely due to an incomplete calculation.",
     "output_type": "error",
     "traceback": [
      "\u001b[0;31m---------------------------------------------------------------------------\u001b[0m",
      "\u001b[0;31mReadError\u001b[0m                                 Traceback (most recent call last)",
      "Cell \u001b[0;32mIn[28], line 1\u001b[0m\n\u001b[0;32m----> 1\u001b[0m \u001b[43mcalc_CO\u001b[49m\u001b[38;5;241;43m.\u001b[39;49m\u001b[43mread\u001b[49m\u001b[43m(\u001b[49m\u001b[43m)\u001b[49m\n\u001b[1;32m      2\u001b[0m CO \u001b[38;5;241m=\u001b[39m calc_CO\u001b[38;5;241m.\u001b[39mget_atoms()\n\u001b[1;32m      4\u001b[0m \u001b[38;5;28mprint\u001b[39m(\u001b[38;5;124m'\u001b[39m\u001b[38;5;124mConverged? \u001b[39m\u001b[38;5;124m'\u001b[39m, calc_CO\u001b[38;5;241m.\u001b[39mconverged)\n",
      "File \u001b[0;32m~/.local/lib/python3.10/site-packages/ase/calculators/vasp/vasp.py:506\u001b[0m, in \u001b[0;36mVasp.read\u001b[0;34m(self, label)\u001b[0m\n\u001b[1;32m    503\u001b[0m \u001b[38;5;28mself\u001b[39m\u001b[38;5;241m.\u001b[39mread_potcar(filename\u001b[38;5;241m=\u001b[39m\u001b[38;5;28mself\u001b[39m\u001b[38;5;241m.\u001b[39m_indir(\u001b[38;5;124m'\u001b[39m\u001b[38;5;124mPOTCAR\u001b[39m\u001b[38;5;124m'\u001b[39m))\n\u001b[1;32m    505\u001b[0m \u001b[38;5;66;03m# Read the results from the calculation\u001b[39;00m\n\u001b[0;32m--> 506\u001b[0m \u001b[38;5;28;43mself\u001b[39;49m\u001b[38;5;241;43m.\u001b[39;49m\u001b[43mread_results\u001b[49m\u001b[43m(\u001b[49m\u001b[43m)\u001b[49m\n",
      "File \u001b[0;32m~/.local/lib/python3.10/site-packages/ase/calculators/vasp/vasp.py:555\u001b[0m, in \u001b[0;36mVasp.read_results\u001b[0;34m(self)\u001b[0m\n\u001b[1;32m    552\u001b[0m outcar \u001b[38;5;241m=\u001b[39m \u001b[38;5;28mself\u001b[39m\u001b[38;5;241m.\u001b[39mload_file(\u001b[38;5;124m'\u001b[39m\u001b[38;5;124mOUTCAR\u001b[39m\u001b[38;5;124m'\u001b[39m)\n\u001b[1;32m    554\u001b[0m \u001b[38;5;66;03m# Read the data we can from vasprun.xml\u001b[39;00m\n\u001b[0;32m--> 555\u001b[0m calc_xml \u001b[38;5;241m=\u001b[39m \u001b[38;5;28;43mself\u001b[39;49m\u001b[38;5;241;43m.\u001b[39;49m\u001b[43m_read_xml\u001b[49m\u001b[43m(\u001b[49m\u001b[43m)\u001b[49m\n\u001b[1;32m    556\u001b[0m xml_results \u001b[38;5;241m=\u001b[39m calc_xml\u001b[38;5;241m.\u001b[39mresults\n\u001b[1;32m    558\u001b[0m \u001b[38;5;66;03m# Fix sorting\u001b[39;00m\n",
      "File \u001b[0;32m~/.local/lib/python3.10/site-packages/ase/calculators/vasp/vasp.py:707\u001b[0m, in \u001b[0;36mVasp._read_xml\u001b[0;34m(self)\u001b[0m\n\u001b[1;32m    704\u001b[0m     \u001b[38;5;28;01mraise\u001b[39;00m calculator\u001b[38;5;241m.\u001b[39mReadError(incomplete_msg) \u001b[38;5;28;01mfrom\u001b[39;00m \u001b[38;5;21;01mexc\u001b[39;00m\n\u001b[1;32m    706\u001b[0m \u001b[38;5;28;01mif\u001b[39;00m _xml_atoms \u001b[38;5;129;01mis\u001b[39;00m \u001b[38;5;28;01mNone\u001b[39;00m \u001b[38;5;129;01mor\u001b[39;00m _xml_atoms\u001b[38;5;241m.\u001b[39mcalc \u001b[38;5;129;01mis\u001b[39;00m \u001b[38;5;28;01mNone\u001b[39;00m:\n\u001b[0;32m--> 707\u001b[0m     \u001b[38;5;28;01mraise\u001b[39;00m calculator\u001b[38;5;241m.\u001b[39mReadError(incomplete_msg)\n\u001b[1;32m    709\u001b[0m \u001b[38;5;28mself\u001b[39m\u001b[38;5;241m.\u001b[39m_xml_calc \u001b[38;5;241m=\u001b[39m _xml_atoms\u001b[38;5;241m.\u001b[39mcalc\n\u001b[1;32m    710\u001b[0m \u001b[38;5;28;01mreturn\u001b[39;00m \u001b[38;5;28mself\u001b[39m\u001b[38;5;241m.\u001b[39m_xml_calc\n",
      "\u001b[0;31mReadError\u001b[0m: The file \"CO_lab3_3_01292023/vasprun.xml\" is incomplete, and no DFT data was available. This is likely due to an incomplete calculation."
     ]
    }
   ],
   "source": [
    "calc_CO.read()\n",
    "CO = calc_CO.get_atoms()\n",
    "\n",
    "print('Converged? ', calc_CO.converged)"
   ]
  },
  {
   "cell_type": "code",
   "execution_count": 21,
   "id": "f654e2a9",
   "metadata": {},
   "outputs": [
    {
     "name": "stdout",
     "output_type": "stream",
     "text": [
      "Energy = -13.13971275 eV\n",
      "Forces (eV/Ang.):\n",
      "[[ -0.           0.         -27.70914245]\n",
      " [  0.          -0.          27.70914245]]\n"
     ]
    }
   ],
   "source": [
    "#from calc object\n",
    "print('Energy = {0} eV'.format(calc_CO.get_potential_energy()))\n",
    "print('Forces (eV/Ang.):')\n",
    "print(calc_CO.get_forces())\n"
   ]
  },
  {
   "cell_type": "code",
   "execution_count": 22,
   "id": "aa45120e",
   "metadata": {},
   "outputs": [
    {
     "name": "stdout",
     "output_type": "stream",
     "text": [
      "Energy = -13.13971275 eV\n",
      "Forces (eV/Ang.):\n",
      "[[ -0.           0.         -27.70914245]\n",
      " [  0.          -0.          27.70914245]]\n"
     ]
    }
   ],
   "source": [
    "#from atoms object\n",
    "print('Energy = {0} eV'.format(CO.get_potential_energy()))\n",
    "print('Forces (eV/Ang.):')\n",
    "print(CO.get_forces())"
   ]
  },
  {
   "cell_type": "code",
   "execution_count": 23,
   "id": "d6a096d2",
   "metadata": {},
   "outputs": [
    {
     "name": "stdout",
     "output_type": "stream",
     "text": [
      "<ase.calculators.vasp.vasp.Vasp object at 0x7fd85ad27ca0>\n"
     ]
    }
   ],
   "source": [
    "#print status of calculation\n",
    "print(calc_CO)"
   ]
  },
  {
   "cell_type": "code",
   "execution_count": null,
   "id": "96cbacea",
   "metadata": {},
   "outputs": [],
   "source": []
  }
 ],
 "metadata": {
  "kernelspec": {
   "display_name": "Python 3 (ipykernel)",
   "language": "python",
   "name": "python3"
  },
  "language_info": {
   "codemirror_mode": {
    "name": "ipython",
    "version": 3
   },
   "file_extension": ".py",
   "mimetype": "text/x-python",
   "name": "python",
   "nbconvert_exporter": "python",
   "pygments_lexer": "ipython3",
   "version": "3.10.5"
  }
 },
 "nbformat": 4,
 "nbformat_minor": 5
}
