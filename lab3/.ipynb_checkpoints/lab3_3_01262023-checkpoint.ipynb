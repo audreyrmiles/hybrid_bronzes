{
 "cells": [
  {
   "cell_type": "code",
   "execution_count": null,
   "id": "b1ed6573",
   "metadata": {},
   "outputs": [],
   "source": [
    "#ASE modules\n",
    "from ase import Atoms\n",
    "from ase.visualize import view\n",
    "from ase.io import read,write\n",
    "from ase.build import molecule\n",
    "from ase.calculators.vasp import Vasp\n",
    "\n",
    "#Python modules\n",
    "import numpy as np\n",
    "import matplotlib.pyplot as plt\n",
    "from scipy.constants import physical_constants"
   ]
  },
  {
   "cell_type": "code",
   "execution_count": null,
   "id": "f5e6d77c",
   "metadata": {},
   "outputs": [],
   "source": [
    "def Calc_Encut(direct, en, atom):\n",
    "    \n",
    "    calc = Vasp(\n",
    "            directory = direct,\n",
    "            encut = en, #planewave cutoff\n",
    "            xc = 'PBE', #exchange-correlation functional\n",
    "            ismear = 1, #planewave smearing\n",
    "            sigma = 0.01, #small smearing factor for a molecule\n",
    "            #kpts = [1,1,1],\n",
    "            #ediff = 1e-6,\n",
    "            atoms = atom,\n",
    "            )\n",
    "    \n",
    "    return calc"
   ]
  },
  {
   "cell_type": "code",
   "execution_count": null,
   "id": "f28a6e79",
   "metadata": {},
   "outputs": [],
   "source": [
    "d = 1.1\n",
    "\n",
    "CO = Atoms('CO',\n",
    "           positions = [ (0,0,0), (0,0, d) ],\n",
    "           cell = [10,10,10],\n",
    "           pbc = [1,1,1] #periodic boundary condition\n",
    "          )\n",
    "\n",
    "#CO.set_cell([10,10,10])\n",
    "CO.center()\n",
    "\n",
    "view(CO)"
   ]
  },
  {
   "cell_type": "code",
   "execution_count": null,
   "id": "0016b228",
   "metadata": {},
   "outputs": [],
   "source": [
    "calc_CO = Calc_Encut('./CO_lab3_3_01262023', 350, CO)\n",
    "\n",
    "calc_CO.calculate(CO)"
   ]
  },
  {
   "cell_type": "code",
   "execution_count": null,
   "id": "539b512f",
   "metadata": {},
   "outputs": [],
   "source": [
    "calc_CO.read()\n",
    "CO = calc_CO.get_atoms()\n",
    "\n",
    "print('Converged? ', calc_CO.converged)"
   ]
  },
  {
   "cell_type": "code",
   "execution_count": null,
   "id": "f654e2a9",
   "metadata": {},
   "outputs": [],
   "source": [
    "#from calc object\n",
    "print('Energy = {0} eV'.format(calc_CO.get_potential_energy()))\n",
    "print('Forces (eV/Ang.):')\n",
    "print(calc_CO.get_forces())\n"
   ]
  },
  {
   "cell_type": "code",
   "execution_count": null,
   "id": "aa45120e",
   "metadata": {},
   "outputs": [],
   "source": [
    "#from atoms object\n",
    "print('Energy = {0} eV'.format(CO.get_potential_energy()))\n",
    "print('Forces (eV/Ang.):')\n",
    "print(CO.get_forces())"
   ]
  },
  {
   "cell_type": "code",
   "execution_count": null,
   "id": "d6a096d2",
   "metadata": {},
   "outputs": [],
   "source": [
    "#print status of calculation\n",
    "print(calc_CO)"
   ]
  },
  {
   "cell_type": "code",
   "execution_count": null,
   "id": "96cbacea",
   "metadata": {},
   "outputs": [],
   "source": []
  }
 ],
 "metadata": {
  "kernelspec": {
   "display_name": "Python 3 (ipykernel)",
   "language": "python",
   "name": "python3"
  },
  "language_info": {
   "codemirror_mode": {
    "name": "ipython",
    "version": 3
   },
   "file_extension": ".py",
   "mimetype": "text/x-python",
   "name": "python",
   "nbconvert_exporter": "python",
   "pygments_lexer": "ipython3",
   "version": "3.10.5"
  }
 },
 "nbformat": 4,
 "nbformat_minor": 5
}
