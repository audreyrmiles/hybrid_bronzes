{
 "cells": [
  {
   "cell_type": "code",
   "execution_count": 1,
   "id": "ddfd840b",
   "metadata": {},
   "outputs": [],
   "source": [
    "#ASE modules\n",
    "from ase import Atoms\n",
    "from ase.visualize import view\n",
    "from ase.io import read,write\n",
    "from ase.build import molecule\n",
    "from ase.calculators.vasp import Vasp\n",
    "\n",
    "#Python modules\n",
    "import numpy as np\n",
    "import matplotlib.pyplot as plt\n",
    "from scipy.constants import physical_constants"
   ]
  },
  {
   "cell_type": "code",
   "execution_count": 14,
   "id": "edc6ccba",
   "metadata": {},
   "outputs": [],
   "source": [
    "def Calc_Encut(direct, en, atom):\n",
    "    \n",
    "    calc = Vasp(\n",
    "            directory = direct,\n",
    "            encut = en, #planewave cutoff\n",
    "            xc = 'PBE', #exchange-correlation functional\n",
    "            nbands = 8, #number of bands\n",
    "            ismear = 1, #planewave smearing\n",
    "            sigma = 0.01, #small smearing factor for a molecule\n",
    "            kpts = [1,1,1],\n",
    "            nsw = 20, #number of ionic steps\n",
    "            ibrion = 2, #conjugate gradient algorithm\n",
    "            ediff = 1e-6,\n",
    "            atoms = atom,\n",
    "            )\n",
    "    \n",
    "    return calc"
   ]
  },
  {
   "cell_type": "code",
   "execution_count": 28,
   "id": "7849cc93",
   "metadata": {},
   "outputs": [
    {
     "data": {
      "text/plain": [
       "<Popen: returncode: None args: ['/afs/.crc.nd.edu/x86_64_linux/p/python/3.10...>"
      ]
     },
     "execution_count": 28,
     "metadata": {},
     "output_type": "execute_result"
    }
   ],
   "source": [
    "d = 1.1\n",
    "\n",
    "CO = Atoms('CO',\n",
    "           positions = [ (0,0,0), (0,0, d) ],\n",
    "           cell = (10,10,10),\n",
    "           pbc = [1,1,1] #periodic boundary condition\n",
    "          )\n",
    "\n",
    "CO.center()\n",
    "\n",
    "view(CO)"
   ]
  },
  {
   "cell_type": "code",
   "execution_count": 29,
   "id": "4a2f4cdb",
   "metadata": {},
   "outputs": [],
   "source": [
    "calc_CO_geometry = Calc_Encut('./lab3_4_01292023', 350, CO)\n",
    "calc_CO_geometry.calculate(CO)"
   ]
  },
  {
   "cell_type": "code",
   "execution_count": 30,
   "id": "3406136a",
   "metadata": {},
   "outputs": [
    {
     "name": "stdout",
     "output_type": "stream",
     "text": [
      "Converged?  True\n"
     ]
    }
   ],
   "source": [
    "calc_CO_geometry.read()\n",
    "CO = calc_CO_geometry.get_atoms()\n",
    "print('Converged? ', calc_CO_geometry.converged)"
   ]
  },
  {
   "cell_type": "code",
   "execution_count": 34,
   "id": "e022d254",
   "metadata": {},
   "outputs": [
    {
     "name": "stdout",
     "output_type": "stream",
     "text": [
      "energy = -14.81271884 eV\n",
      "number of geometry steps = 6\n",
      "Forces (eV/Ang.):\n",
      "[[ 0.          0.         -0.00951325]\n",
      " [-0.          0.          0.00951325]]\n",
      "Equilibrium Positions (Angs.):\n",
      "C [5.         5.         4.42810825]\n",
      "O [5.         5.         5.57189175]\n"
     ]
    }
   ],
   "source": [
    "print('energy = {0} eV'.format(calc_CO_geometry.get_potential_energy()))\n",
    "print('number of geometry steps = {0}'.format(calc_CO_geometry.read_number_of_ionic_steps()))\n",
    "print('Forces (eV/Ang.):')\n",
    "print(calc_CO_geometry.get_forces())\n",
    "print('Equilibrium Positions (Angs.):')\n",
    "      \n",
    "for atom in CO:\n",
    "      print(atom.symbol, atom.position)"
   ]
  },
  {
   "cell_type": "code",
   "execution_count": 32,
   "id": "a74b422f",
   "metadata": {},
   "outputs": [],
   "source": [
    "write('./CO-relaxed.png', CO, show_unit_cell = 2, rotation = '60x, -30y, 90z')"
   ]
  },
  {
   "cell_type": "code",
   "execution_count": null,
   "id": "27ec86f4",
   "metadata": {},
   "outputs": [],
   "source": []
  }
 ],
 "metadata": {
  "kernelspec": {
   "display_name": "Python 3 (ipykernel)",
   "language": "python",
   "name": "python3"
  },
  "language_info": {
   "codemirror_mode": {
    "name": "ipython",
    "version": 3
   },
   "file_extension": ".py",
   "mimetype": "text/x-python",
   "name": "python",
   "nbconvert_exporter": "python",
   "pygments_lexer": "ipython3",
   "version": "3.10.5"
  }
 },
 "nbformat": 4,
 "nbformat_minor": 5
}
