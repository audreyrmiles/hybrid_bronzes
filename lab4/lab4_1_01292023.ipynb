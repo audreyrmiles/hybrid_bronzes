{
 "cells": [
  {
   "cell_type": "code",
   "execution_count": 1,
   "id": "7ccbf3c0",
   "metadata": {},
   "outputs": [],
   "source": [
    "from ase.build import bulk\n",
    "from ase.calculators.vasp import Vasp\n",
    "from ase.visualize import view\n",
    "import matplotlib.pyplot as plt"
   ]
  },
  {
   "cell_type": "code",
   "execution_count": 2,
   "id": "fba1912f",
   "metadata": {},
   "outputs": [
    {
     "name": "stdout",
     "output_type": "stream",
     "text": [
      "Atoms(symbols='Pd4', pbc=True, cell=[3.89, 3.89, 3.89])\n"
     ]
    }
   ],
   "source": [
    "# a is the lattice constant in Angstroms\n",
    "Pd_cubic = bulk('Pd', 'fcc', a = 3.89, cubic = True)\n",
    "view(Pd_cubic)\n",
    "print(Pd_cubic)"
   ]
  },
  {
   "cell_type": "code",
   "execution_count": 3,
   "id": "0939f50f",
   "metadata": {},
   "outputs": [
    {
     "name": "stdout",
     "output_type": "stream",
     "text": [
      "Atoms(symbols='Pd2', pbc=True, cell=[2.75064537881567, 2.75064537881567, 3.89])\n"
     ]
    }
   ],
   "source": [
    "Pd_ortho = bulk('Pd', 'fcc', a = 3.89, orthorhombic = True)\n",
    "view(Pd_ortho)\n",
    "print(Pd_ortho)"
   ]
  },
  {
   "cell_type": "code",
   "execution_count": 4,
   "id": "482981a4",
   "metadata": {},
   "outputs": [
    {
     "name": "stdout",
     "output_type": "stream",
     "text": [
      "Atoms(symbols='Pd', pbc=True, cell=[[0.0, 1.945, 1.945], [1.945, 0.0, 1.945], [1.945, 1.945, 0.0]])\n"
     ]
    }
   ],
   "source": [
    "Pd_primitive = bulk('Pd', 'fcc')\n",
    "view(Pd_primitive)\n",
    "print(Pd_primitive)"
   ]
  },
  {
   "cell_type": "code",
   "execution_count": null,
   "id": "937d3bfd",
   "metadata": {},
   "outputs": [],
   "source": []
  }
 ],
 "metadata": {
  "kernelspec": {
   "display_name": "Python 3 (ipykernel)",
   "language": "python",
   "name": "python3"
  },
  "language_info": {
   "codemirror_mode": {
    "name": "ipython",
    "version": 3
   },
   "file_extension": ".py",
   "mimetype": "text/x-python",
   "name": "python",
   "nbconvert_exporter": "python",
   "pygments_lexer": "ipython3",
   "version": "3.10.5"
  }
 },
 "nbformat": 4,
 "nbformat_minor": 5
}
