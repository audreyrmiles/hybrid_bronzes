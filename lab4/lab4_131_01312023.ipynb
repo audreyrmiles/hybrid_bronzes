{
 "cells": [
  {
   "cell_type": "code",
   "execution_count": 2,
   "id": "1a130f3b",
   "metadata": {},
   "outputs": [],
   "source": [
    "import numpy as np\n",
    "from ase.eos import EquationOfState as EOS\n",
    "from ase.calculators.vasp import Vasp\n",
    "import matplotlib.pyplot as plt\n",
    "from ase.build import bulk\n",
    "from ase.visualize import view\n",
    "from ase.io import read,write\n"
   ]
  },
  {
   "cell_type": "code",
   "execution_count": null,
   "id": "b93f6a54",
   "metadata": {},
   "outputs": [],
   "source": [
    "#generate an array of 7 points 10% around 3.89 angstroms\n",
    "A = np.linspace(3.89 * 0.9, 3.89 * 1.1, 7)\n",
    "\n",
    "energies = []\n",
    "volumes = []\n",
    "ready = True\n",
    "\n",
    "for a in A:\n",
    "    Pd_cubic = bulk('Pd', 'fcc', a = a, cubic = True)\n",
    "    #print(Pd_cubic)\n",
    "    \n",
    "    calc = Vasp(\n",
    "            directory = './EOS/Pd-a-{0:1.2f}'.format(a),\n",
    "            xc = 'pbe',\n",
    "            encut = 400,\n",
    "            ismear = 1, #use MP smearing\n",
    "            kpts = [8,8,8],\n",
    "            atoms = Pd_cubic\n",
    "    )\n",
    "    \n",
    "    calc.calculate()\n",
    "    #calc.read()\n",
    "    #Pd_cubic = calc.get_atoms()\n",
    "    energies.append(Pd_cubic.get_potential_energy())\n",
    "    volumes.append(Pd_cubic.get_volume())\n",
    "    \n",
    "if None in energies:\n",
    "    ready  = False\n",
    "    \n",
    "if ready:\n",
    "    plt.plot(A, energies, 'bo-')\n",
    "    plt.xlabel('Lattice constant ($\\AA$)')\n",
    "    plt.ylabel('Total energy (eV)')\n",
    "    plt.savefig('./Pd-fcc-lattice.png')\n",
    "    plt.show()"
   ]
  },
  {
   "cell_type": "code",
   "execution_count": null,
   "id": "d87def3d",
   "metadata": {},
   "outputs": [],
   "source": [
    "def Calc_Encut(direct, en, atom):\n",
    "    calc = Vasp(\n",
    "            directory = direct,\n",
    "            encut = en, #planewave cutoff\n",
    "            xc = 'PBE',\n",
    "            atoms = atom,\n",
    "            ismear = 1,\n",
    "            kpts = [8,8,8],\n",
    "            )"
   ]
  },
  {
   "cell_type": "code",
   "execution_count": 8,
   "id": "89dac56e",
   "metadata": {},
   "outputs": [
    {
     "name": "stdout",
     "output_type": "stream",
     "text": [
      "<ase.calculators.vasp.vasp.Vasp object at 0x7f1012997c70>\n",
      "<ase.calculators.vasp.vasp.Vasp object at 0x7f0fde661240>\n",
      "<ase.calculators.vasp.vasp.Vasp object at 0x7f10129e2950>\n",
      "<ase.calculators.vasp.vasp.Vasp object at 0x7f1012995390>\n",
      "<ase.calculators.vasp.vasp.Vasp object at 0x7f0fde876b60>\n",
      "<ase.calculators.vasp.vasp.Vasp object at 0x7f0fde960be0>\n",
      "<ase.calculators.vasp.vasp.Vasp object at 0x7f0fde661330>\n"
     ]
    },
    {
     "data": {
      "image/png": "[encoded data removed]",
      "text/plain": [
       "<Figure size 640x480 with 1 Axes>"
      ]
     },
     "metadata": {},
     "output_type": "display_data"
    }
   ],
   "source": [
    "#generate an array of 7 points 10% around 3.89 angstroms\n",
    "A = np.linspace(3.89 * 0.9, 3.89 * 1.1, 7)\n",
    "\n",
    "energies = []\n",
    "volumes = []\n",
    "ready = True\n",
    "\n",
    "for a in A:\n",
    "    Pd_cubic = bulk('Pd', 'fcc', a = a, cubic = True)\n",
    "    #print(Pd_cubic)\n",
    "    \n",
    "    calc = Vasp(\n",
    "            directory = './EOS/Pd-a-{0:1.2f}'.format(a),\n",
    "            xc = 'pbe',\n",
    "            encut = 400,\n",
    "            ismear = 1, #use MP smearing\n",
    "            kpts = [8,8,8],\n",
    "            atoms = Pd_cubic,\n",
    "        )\n",
    "    print(calc)\n",
    "    \n",
    "    calc.calculate(Pd_cubic)\n",
    "    calc.read() #why do i need this?\n",
    "    \n",
    "    energies.append(calc.get_potential_energy())\n",
    "    volumes.append(Pd_cubic.get_volume())\n",
    "    \n",
    "if None in energies:\n",
    "    ready  = False\n",
    "    \n",
    "if ready:\n",
    "    plt.plot(A, energies, 'bo-')\n",
    "    plt.xlabel('Lattice constant ($\\AA$)')\n",
    "    plt.ylabel('Total energy (eV)')\n",
    "    plt.savefig('./Pd-fcc-lattice.png')\n",
    "    plt.show()"
   ]
  },
  {
   "cell_type": "code",
   "execution_count": null,
   "id": "6d3e2af8",
   "metadata": {},
   "outputs": [],
   "source": []
  }
 ],
 "metadata": {
  "kernelspec": {
   "display_name": "Python 3 (ipykernel)",
   "language": "python",
   "name": "python3"
  },
  "language_info": {
   "codemirror_mode": {
    "name": "ipython",
    "version": 3
   },
   "file_extension": ".py",
   "mimetype": "text/x-python",
   "name": "python",
   "nbconvert_exporter": "python",
   "pygments_lexer": "ipython3",
   "version": "3.10.5"
  }
 },
 "nbformat": 4,
 "nbformat_minor": 5
}
